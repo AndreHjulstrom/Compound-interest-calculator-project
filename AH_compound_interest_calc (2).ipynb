{
 "cells": [
  {
   "cell_type": "code",
   "execution_count": 1,
   "id": "0ed172a9-5895-409a-8371-99a1a29a4736",
   "metadata": {},
   "outputs": [],
   "source": [
    "# The necessary modules for the task are imported:\n",
    "\n",
    "%matplotlib inline\n",
    "from matplotlib import pyplot as plt\n",
    "import numpy as np\n",
    "import math\n",
    "import pandas"
   ]
  },
  {
   "cell_type": "code",
   "execution_count": 7,
   "id": "7365e3ba-e5c1-467b-a867-2ca1ef20b3aa",
   "metadata": {},
   "outputs": [
    {
     "name": "stdin",
     "output_type": "stream",
     "text": [
      "Initial investment: 1000\n",
      "Annual growth in percent: 25\n",
      "number of years: 10\n",
      "monthly addition: 1000\n"
     ]
    },
    {
     "name": "stdout",
     "output_type": "stream",
     "text": [
      "Initial investment:1000.0\n",
      "Annual growth rate:25.0%\n",
      "Number of years:10\n",
      "Monthly addition:1000.0\n",
      "total return after specified time period:460543\n",
      "principal:121000\n",
      "Return on invested capital:281%\n",
      "Interest:339543\n"
     ]
    },
    {
     "data": {
      "text/plain": [
       "<matplotlib.legend.Legend at 0x1dd82b77f70>"
      ]
     },
     "execution_count": 7,
     "metadata": {},
     "output_type": "execute_result"
    },
    {
     "data": {
      "image/png": "[encoded data removed]",
      "text/plain": [
       "<Figure size 432x288 with 1 Axes>"
      ]
     },
     "metadata": {
      "needs_background": "light"
     },
     "output_type": "display_data"
    }
   ],
   "source": [
    "# First I define the variables, in which the user will be able to provide values through input.\n",
    "# I also added a valueerror function, so that the entire thing doesn't crash if the user input is invalid!\n",
    "\n",
    "while True:\n",
    "    try:\n",
    "        II = float(input(\"Initial investment:\"))\n",
    "        break\n",
    "    except ValueError:\n",
    "        print(\"invalid value\")\n",
    "while True:\n",
    "    try:\n",
    "        t2 = float(input(\"Annual growth in percent:\"))\n",
    "        break\n",
    "    except ValueError:\n",
    "        print(\"invalid value\")\n",
    "while True:\n",
    "    try:\n",
    "        ny = int(input(\"number of years:\"))\n",
    "        break\n",
    "    except ValueError:\n",
    "        print(\"invalid value\")\n",
    "while True:\n",
    "    try:\n",
    "        a = float(input(\"monthly addition:\"))\n",
    "        break\n",
    "    except ValueError:\n",
    "        print(\"invalid value\")\n",
    "\n",
    "# The variable \"nm\" is \"number of months\", which is converted from the user input \"ny\". This is more convenient for the F-formula because of the monthly additions to the investment which are compounded monthly with the rest of the previous invested capital.\n",
    "# t1 represents a conversion to monthly compounding growth from the annual compounding growth (t2), where t1^12 = t2\n",
    "# Here I also write the formulas, which will provide the user with the correct final value \"F\" based on the provided input values as well as \"P\", which is the total amount of invested capital over the given duration of time, also called \"principal\".\n",
    "# Note: the monthly contributions are done in the beginning of each month, I will provide the ability to contribute at the end of each month as well in the future.\n",
    "\n",
    "nm = ny*12\n",
    "t1 = (((t2/100)+1)**(1/12))-1\n",
    "F = round((II*(1+t1)**nm)+a*(((1+t1)**nm-1)/t1)*(1+t1))\n",
    "P = round(nm*a+II)\n",
    "print(\"Initial investment:\" + str(II))\n",
    "print(\"Annual growth rate:\" + str(t2) + \"%\")\n",
    "print(\"Number of years:\" + str(ny))\n",
    "print(\"Monthly addition:\" + str(a))\n",
    "print(\"total return after specified time period:\" + str(F))\n",
    "print(\"principal:\" + str(round(nm * a + II)))\n",
    "print(\"Return on invested capital:\" + str(round((F / P) * 100) - 100) + \"%\")\n",
    "print(\"Interest:\" + str(F - P))\n",
    "\n",
    "# In order to make the x-axis show relevant values for the given time span, I made a for-loop over the range corresponding to the number of months the investment takes place. Because I also want to include the final month, which by default would be excluded otherwise, I added 1.\n",
    "# I found the x-axis to be the hardest part of making this graph, but I finally found a relatively satisfying way of spacing the values on the x-axis, that is every twelfth month, corresponding to a year. I will change this to something even moreappropriate when I've come further on this journey!\n",
    "\n",
    "N = nm + 1\n",
    "list_time = []\n",
    "for i in range(N):\n",
    "    list_time.append(i)\n",
    "x = np.linspace(0 * nm, 1 * nm, 10)\n",
    "plt.xticks(list_time[::12])\n",
    "\n",
    "# Here I assign the labels to the three different plots, as well as define the functions that determine the appearance of the plots.\n",
    "# The y-values of the \"total return\" plot are determined by the same F-formula that defines the return value after the investment period.\n",
    "# The y-values of the \"Principal\" plot are determined by the total amount of monthly additions plus the initial investment.\n",
    "# The y-values of the \"Interest\" plot are determined by the \"total return\" values minus the \"Principal\" values.That is, the change in total value of the investment without the influence of monthly contributions.\n",
    "\n",
    "plt.xlabel('months')\n",
    "plt.ylabel('capital')\n",
    "plt.title('compound interest calculator')\n",
    "plt.plot(x,((II*(1+t1)**x)+a*(((1+t1)**x-1)/t1)*(1+t1)))\n",
    "plt.plot(x,a*x+II)\n",
    "plt.plot(x,((II*(1+t1)**x)+a*(((1+t1)**x-1)/t1)*(1+t1))-(a*x+II))\n",
    "plt.legend(['Total return','Principal','Interest'])"
   ]
  },
  {
   "cell_type": "code",
   "execution_count": null,
   "id": "da57ff3c-3a70-4cc5-8099-d787b95c2a77",
   "metadata": {},
   "outputs": [],
   "source": []
  }
 ],
 "metadata": {
  "kernelspec": {
   "display_name": "Python 3",
   "language": "python",
   "name": "python3"
  },
  "language_info": {
   "codemirror_mode": {
    "name": "ipython",
    "version": 3
   },
   "file_extension": ".py",
   "mimetype": "text/x-python",
   "name": "python",
   "nbconvert_exporter": "python",
   "pygments_lexer": "ipython3",
   "version": "3.8.8"
  }
 },
 "nbformat": 4,
 "nbformat_minor": 5
}
