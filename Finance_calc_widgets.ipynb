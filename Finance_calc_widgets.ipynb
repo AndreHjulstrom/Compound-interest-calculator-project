{
 "cells": [
  {
   "cell_type": "code",
   "execution_count": 14,
   "id": "04c0ff1e",
   "metadata": {},
   "outputs": [],
   "source": [
    "%matplotlib inline\n",
    "from matplotlib import pyplot as plt\n",
    "import numpy as np\n",
    "import math\n",
    "import pandas\n",
    "import ipywidgets as ipw\n",
    "from ipywidgets import interact, interactive, fixed, interact_manual\n",
    "from IPython.display import display"
   ]
  },
  {
   "cell_type": "code",
   "execution_count": 15,
   "id": "4e6935d6",
   "metadata": {},
   "outputs": [
    {
     "data": {
      "application/vnd.jupyter.widget-view+json": {
       "model_id": "207f2baeedac48e99aa18cfb85b24301",
       "version_major": 2,
       "version_minor": 0
      },
      "text/plain": [
       "interactive(children=(IntSlider(value=1000, description='Initial_investment', max=10000), IntSlider(value=20, …"
      ]
     },
     "metadata": {},
     "output_type": "display_data"
    }
   ],
   "source": [
    "@interact_manual(Initial_investment = ipw.IntSlider(min=0, max=10000, step=1, value=1000),Annual_growth =ipw.IntSlider(min=0, max=100, step=1, value=20), Monthly_contribution = ipw.IntSlider(min=0, max=10000, step=1, value=1000),Number_of_years = ipw.IntSlider(min=0, max=50, step=1, value=10))\n",
    "def calculate(Initial_investment,Annual_growth,Monthly_contribution,Number_of_years):\n",
    "    Total_return = round((Initial_investment*(1+((((Annual_growth/100)+1)**(1/12))-1))**(Number_of_years*12))+Monthly_contribution*(((1+((((Annual_growth/100)+1)**(1/12))-1))**(Number_of_years*12)-1)/((((Annual_growth/100)+1)**(1/12))-1))*(1+((((Annual_growth/100)+1)**(1/12))-1)))\n",
    "    Interest = round(((((Initial_investment*(1+((((Annual_growth/100)+1)**(1/12))-1))**(Number_of_years*12))+Monthly_contribution*(((1+((((Annual_growth/100)+1)**(1/12))-1))**(Number_of_years*12))-1)/((((Annual_growth/100)+1)**(1/12))-1))*(1+((((Annual_growth/100)+1)**(1/12))-1))))-(Monthly_contribution*(Number_of_years*12)+Initial_investment))\n",
    "    Principal = (Monthly_contribution*(Number_of_years*12)+Initial_investment)\n",
    "    print(Total_return)\n",
    "    print(Interest)\n",
    "    print(Principal)\n",
    "    print(round(((Total_return/Principal)-1)*100))\n",
    "    N = (Number_of_years*12) + 1\n",
    "    list_time = []\n",
    "    for i in range(N):\n",
    "        list_time.append(i)\n",
    "    x = np.linspace(0*(Number_of_years*12),1*(Number_of_years*12),10)\n",
    "    plt.xticks(list_time[::12])\n",
    "\n",
    "    plt.xlabel('months')\n",
    "    plt.ylabel('capital')\n",
    "    plt.title('compound interest calculator')\n",
    "    plt.plot(x,(((Initial_investment*(1+((((Annual_growth/100)+1)**(1/12))-1))**x)+Monthly_contribution*(((1+((((Annual_growth/100)+1)**(1/12))-1))**x)-1)/((((Annual_growth/100)+1)**(1/12))-1))*(1+((((Annual_growth/100)+1)**(1/12))-1))))\n",
    "    plt.plot(x,Monthly_contribution*x+Initial_investment)\n",
    "    plt.plot(x,(((((Initial_investment*(1+((((Annual_growth/100)+1)**(1/12))-1))**x)+Monthly_contribution*(((1+((((Annual_growth/100)+1)**(1/12))-1))**x-1)/((((Annual_growth/100)+1)**(1/12))-1))*(1+((((Annual_growth/100)+1)**(1/12))-1)))))-(Monthly_contribution*x+Initial_investment)))\n",
    "    plt.legend(['Total return','Principal','Interest'])"
   ]
  },
  {
   "cell_type": "code",
   "execution_count": null,
   "id": "61a7f880",
   "metadata": {},
   "outputs": [],
   "source": []
  },
  {
   "cell_type": "code",
   "execution_count": null,
   "id": "07c54e88",
   "metadata": {},
   "outputs": [],
   "source": []
  }
 ],
 "metadata": {
  "kernelspec": {
   "display_name": "Python 3",
   "language": "python",
   "name": "python3"
  },
  "language_info": {
   "codemirror_mode": {
    "name": "ipython",
    "version": 3
   },
   "file_extension": ".py",
   "mimetype": "text/x-python",
   "name": "python",
   "nbconvert_exporter": "python",
   "pygments_lexer": "ipython3",
   "version": "3.8.8"
  }
 },
 "nbformat": 4,
 "nbformat_minor": 5
}
