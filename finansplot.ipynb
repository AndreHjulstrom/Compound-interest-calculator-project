{
 "cells": [
  {
   "cell_type": "code",
   "execution_count": null,
   "id": "0db2a26b-a591-469c-ae5d-b43fe5865f30",
   "metadata": {},
   "outputs": [],
   "source": [
    "%matplotlib inline\n",
    "from matplotlib import pyplot as plt\n",
    "import numpy as np\n",
    "import math\n",
    "import pandas"
   ]
  },
  {
   "cell_type": "code",
   "execution_count": 59,
   "id": "a579a732-07d0-4f2c-8413-adfb307ee595",
   "metadata": {},
   "outputs": [
    {
     "name": "stdin",
     "output_type": "stream",
     "text": [
      "initiell_investering: dsf\n"
     ]
    },
    {
     "name": "stdout",
     "output_type": "stream",
     "text": [
      "invalid value\n"
     ]
    },
    {
     "name": "stdin",
     "output_type": "stream",
     "text": [
      "initiell_investering: 1000\n",
      "monthly growth: sad\n"
     ]
    },
    {
     "name": "stdout",
     "output_type": "stream",
     "text": [
      "invalid value\n"
     ]
    },
    {
     "name": "stdin",
     "output_type": "stream",
     "text": [
      "monthly growth: 5\n",
      "number of years: 5\n",
      "monthly addition: 100000\n"
     ]
    },
    {
     "name": "stdout",
     "output_type": "stream",
     "text": [
      "total return after specified time period:37144970\n",
      "principal:6001000\n",
      "Return on invested capital:519%\n",
      "Interest:31143970\n"
     ]
    },
    {
     "data": {
      "text/plain": [
       "<matplotlib.legend.Legend at 0x2a06725bc10>"
      ]
     },
     "execution_count": 59,
     "metadata": {},
     "output_type": "execute_result"
    },
    {
     "data": {
      "image/png": "[encoded data removed]",
      "text/plain": [
       "<Figure size 432x288 with 1 Axes>"
      ]
     },
     "metadata": {
      "needs_background": "light"
     },
     "output_type": "display_data"
    }
   ],
   "source": [
    "while True:\n",
    "    try:\n",
    "        II = float(input(\"initiell_investering:\"))\n",
    "        break\n",
    "    except ValueError:\n",
    "        print(\"invalid value\")\n",
    "while True:\n",
    "    try:\n",
    "        t = float(input(\"monthly growth:\"))\n",
    "        break\n",
    "    except ValueError:\n",
    "         print(\"invalid value\")\n",
    "while True:\n",
    "    try:\n",
    "        ny = int(input(\"number of years:\"))\n",
    "        break\n",
    "    except ValueError:\n",
    "         print(\"invalid value\")\n",
    "while True:\n",
    "    try:\n",
    "        a = float(input(\"monthly addition:\"))\n",
    "        break\n",
    "    except ValueError:\n",
    "         print(\"invalid value\")\n",
    "nm = ny*12\n",
    "t1 = t/100\n",
    "F = round((II*(1+t1)**nm)+a*(((1+t1)**nm-1)/t1)*(1+t1))\n",
    "P = round(nm*a+II)\n",
    "print(\"total return after specified time period:\" + str(F))\n",
    "print(\"principal:\" + str(round(nm*a+II)))\n",
    "print(\"Return on invested capital:\"+ str(round((F/P)*100)-100)+\"%\")\n",
    "print(\"Interest:\"+str(F-P))\n",
    "N = nm + 1\n",
    "list_time = []\n",
    "def every_fifth(a):\n",
    "    return a[::5]\n",
    "for i in range(N):\n",
    "    list_time.append(i)\n",
    "list2 = every_fifth(list_time)\n",
    "x = np.linspace(0*nm,1*nm,10)\n",
    "plt.xticks(list_time[::12])\n",
    "plt.xlabel('months')\n",
    "plt.ylabel('capital')\n",
    "plt.title('compound interest calculator')\n",
    "plt.plot(x,((II*(1+t1)**x)+a*(((1+t1)**x-1)/t1)*(1+t1)))\n",
    "plt.plot(x,a*x+II)\n",
    "plt.plot(x,((II*(1+t1)**x)+a*(((1+t1)**x-1)/t1)*(1+t1))-(a*x+II))\n",
    "plt.legend(['Total return','Principal','Interest'])"
   ]
  },
  {
   "cell_type": "code",
   "execution_count": null,
   "id": "03fed854-dadd-44e2-9423-1fb02176c27f",
   "metadata": {},
   "outputs": [],
   "source": []
  }
 ],
 "metadata": {
  "kernelspec": {
   "display_name": "Python 3",
   "language": "python",
   "name": "python3"
  },
  "language_info": {
   "codemirror_mode": {
    "name": "ipython",
    "version": 3
   },
   "file_extension": ".py",
   "mimetype": "text/x-python",
   "name": "python",
   "nbconvert_exporter": "python",
   "pygments_lexer": "ipython3",
   "version": "3.8.8"
  }
 },
 "nbformat": 4,
 "nbformat_minor": 5
}
